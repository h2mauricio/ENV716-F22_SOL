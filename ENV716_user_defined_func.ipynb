{
  "nbformat": 4,
  "nbformat_minor": 0,
  "metadata": {
    "colab": {
      "provenance": [],
      "mount_file_id": "1b6yq64uQ1x2oY3KhHQNy2v3Ot7-Gcw3p",
      "authorship_tag": "ABX9TyM/3VJi8MIHwXYnjqNUz+cR",
      "include_colab_link": true
    },
    "kernelspec": {
      "name": "python3",
      "display_name": "Python 3"
    },
    "language_info": {
      "name": "python"
    },
    "widgets": {
      "application/vnd.jupyter.widget-state+json": {
        "0a1a8f8200ec4c8abac43c8e59bfbcee": {
          "model_module": "@jupyter-widgets/controls",
          "model_name": "FloatTextModel",
          "model_module_version": "1.5.0",
          "state": {
            "_dom_classes": [],
            "_model_module": "@jupyter-widgets/controls",
            "_model_module_version": "1.5.0",
            "_model_name": "FloatTextModel",
            "_view_count": null,
            "_view_module": "@jupyter-widgets/controls",
            "_view_module_version": "1.5.0",
            "_view_name": "FloatTextView",
            "continuous_update": false,
            "description": "Temperature (C):",
            "description_tooltip": null,
            "disabled": false,
            "layout": "IPY_MODEL_ac995ca62fca4992b9ceab87f4b7cd26",
            "step": 0.1,
            "style": "IPY_MODEL_2d51eaa13a1c4b349379fc77536fcca5",
            "value": 0.5
          }
        },
        "ac995ca62fca4992b9ceab87f4b7cd26": {
          "model_module": "@jupyter-widgets/base",
          "model_name": "LayoutModel",
          "model_module_version": "1.2.0",
          "state": {
            "_model_module": "@jupyter-widgets/base",
            "_model_module_version": "1.2.0",
            "_model_name": "LayoutModel",
            "_view_count": null,
            "_view_module": "@jupyter-widgets/base",
            "_view_module_version": "1.2.0",
            "_view_name": "LayoutView",
            "align_content": null,
            "align_items": null,
            "align_self": null,
            "border": null,
            "bottom": null,
            "display": null,
            "flex": null,
            "flex_flow": null,
            "grid_area": null,
            "grid_auto_columns": null,
            "grid_auto_flow": null,
            "grid_auto_rows": null,
            "grid_column": null,
            "grid_gap": null,
            "grid_row": null,
            "grid_template_areas": null,
            "grid_template_columns": null,
            "grid_template_rows": null,
            "height": null,
            "justify_content": null,
            "justify_items": null,
            "left": null,
            "margin": null,
            "max_height": null,
            "max_width": null,
            "min_height": null,
            "min_width": null,
            "object_fit": null,
            "object_position": null,
            "order": null,
            "overflow": null,
            "overflow_x": null,
            "overflow_y": null,
            "padding": null,
            "right": null,
            "top": null,
            "visibility": null,
            "width": null
          }
        },
        "2d51eaa13a1c4b349379fc77536fcca5": {
          "model_module": "@jupyter-widgets/controls",
          "model_name": "DescriptionStyleModel",
          "model_module_version": "1.5.0",
          "state": {
            "_model_module": "@jupyter-widgets/controls",
            "_model_module_version": "1.5.0",
            "_model_name": "DescriptionStyleModel",
            "_view_count": null,
            "_view_module": "@jupyter-widgets/base",
            "_view_module_version": "1.2.0",
            "_view_name": "StyleView",
            "description_width": "initial"
          }
        },
        "f28dad876df04e219b7fc89114f6936d": {
          "model_module": "@jupyter-widgets/output",
          "model_name": "OutputModel",
          "model_module_version": "1.0.0",
          "state": {
            "_dom_classes": [],
            "_model_module": "@jupyter-widgets/output",
            "_model_module_version": "1.0.0",
            "_model_name": "OutputModel",
            "_view_count": null,
            "_view_module": "@jupyter-widgets/output",
            "_view_module_version": "1.0.0",
            "_view_name": "OutputView",
            "layout": "IPY_MODEL_b576240c7ba74effbe2e723269eac855",
            "msg_id": "",
            "outputs": [
              {
                "output_type": "display_data",
                "data": {
                  "text/plain": "32.9"
                },
                "metadata": {}
              }
            ]
          }
        },
        "b576240c7ba74effbe2e723269eac855": {
          "model_module": "@jupyter-widgets/base",
          "model_name": "LayoutModel",
          "model_module_version": "1.2.0",
          "state": {
            "_model_module": "@jupyter-widgets/base",
            "_model_module_version": "1.2.0",
            "_model_name": "LayoutModel",
            "_view_count": null,
            "_view_module": "@jupyter-widgets/base",
            "_view_module_version": "1.2.0",
            "_view_name": "LayoutView",
            "align_content": null,
            "align_items": null,
            "align_self": null,
            "border": null,
            "bottom": null,
            "display": null,
            "flex": null,
            "flex_flow": null,
            "grid_area": null,
            "grid_auto_columns": null,
            "grid_auto_flow": null,
            "grid_auto_rows": null,
            "grid_column": null,
            "grid_gap": null,
            "grid_row": null,
            "grid_template_areas": null,
            "grid_template_columns": null,
            "grid_template_rows": null,
            "height": null,
            "justify_content": null,
            "justify_items": null,
            "left": null,
            "margin": null,
            "max_height": null,
            "max_width": null,
            "min_height": null,
            "min_width": null,
            "object_fit": null,
            "object_position": null,
            "order": null,
            "overflow": null,
            "overflow_x": null,
            "overflow_y": null,
            "padding": null,
            "right": null,
            "top": null,
            "visibility": null,
            "width": null
          }
        },
        "c7d3d423aee6445392965f09e0998436": {
          "model_module": "@jupyter-widgets/controls",
          "model_name": "FloatTextModel",
          "model_module_version": "1.5.0",
          "state": {
            "_dom_classes": [],
            "_model_module": "@jupyter-widgets/controls",
            "_model_module_version": "1.5.0",
            "_model_name": "FloatTextModel",
            "_view_count": null,
            "_view_module": "@jupyter-widgets/controls",
            "_view_module_version": "1.5.0",
            "_view_name": "FloatTextView",
            "continuous_update": false,
            "description": "coal price ($/ton):",
            "description_tooltip": null,
            "disabled": false,
            "layout": "IPY_MODEL_3ae108afca174f5c949dc32673c9bc97",
            "step": 0.1,
            "style": "IPY_MODEL_4df7d27de5424ce9a876eaa89f63e500",
            "value": 1
          }
        },
        "3ae108afca174f5c949dc32673c9bc97": {
          "model_module": "@jupyter-widgets/base",
          "model_name": "LayoutModel",
          "model_module_version": "1.2.0",
          "state": {
            "_model_module": "@jupyter-widgets/base",
            "_model_module_version": "1.2.0",
            "_model_name": "LayoutModel",
            "_view_count": null,
            "_view_module": "@jupyter-widgets/base",
            "_view_module_version": "1.2.0",
            "_view_name": "LayoutView",
            "align_content": null,
            "align_items": null,
            "align_self": null,
            "border": null,
            "bottom": null,
            "display": null,
            "flex": null,
            "flex_flow": null,
            "grid_area": null,
            "grid_auto_columns": null,
            "grid_auto_flow": null,
            "grid_auto_rows": null,
            "grid_column": null,
            "grid_gap": null,
            "grid_row": null,
            "grid_template_areas": null,
            "grid_template_columns": null,
            "grid_template_rows": null,
            "height": null,
            "justify_content": null,
            "justify_items": null,
            "left": null,
            "margin": null,
            "max_height": null,
            "max_width": null,
            "min_height": null,
            "min_width": null,
            "object_fit": null,
            "object_position": null,
            "order": null,
            "overflow": null,
            "overflow_x": null,
            "overflow_y": null,
            "padding": null,
            "right": null,
            "top": null,
            "visibility": null,
            "width": null
          }
        },
        "4df7d27de5424ce9a876eaa89f63e500": {
          "model_module": "@jupyter-widgets/controls",
          "model_name": "DescriptionStyleModel",
          "model_module_version": "1.5.0",
          "state": {
            "_model_module": "@jupyter-widgets/controls",
            "_model_module_version": "1.5.0",
            "_model_name": "DescriptionStyleModel",
            "_view_count": null,
            "_view_module": "@jupyter-widgets/base",
            "_view_module_version": "1.2.0",
            "_view_name": "StyleView",
            "description_width": "initial"
          }
        },
        "1fb9821922cd4ee09ff7f880e528d183": {
          "model_module": "@jupyter-widgets/controls",
          "model_name": "FloatSliderModel",
          "model_module_version": "1.5.0",
          "state": {
            "_dom_classes": [],
            "_model_module": "@jupyter-widgets/controls",
            "_model_module_version": "1.5.0",
            "_model_name": "FloatSliderModel",
            "_view_count": null,
            "_view_module": "@jupyter-widgets/controls",
            "_view_module_version": "1.5.0",
            "_view_name": "FloatSliderView",
            "continuous_update": true,
            "description": "heating value (Btu/lb)",
            "description_tooltip": null,
            "disabled": false,
            "layout": "IPY_MODEL_e72e788b247645b2bf2564d021c26185",
            "max": 50000,
            "min": 1e-7,
            "orientation": "horizontal",
            "readout": true,
            "readout_format": ".2f",
            "step": 1,
            "style": "IPY_MODEL_da349baf7a9844938a8ac207ac1eb0fd",
            "value": 14629
          }
        },
        "e72e788b247645b2bf2564d021c26185": {
          "model_module": "@jupyter-widgets/base",
          "model_name": "LayoutModel",
          "model_module_version": "1.2.0",
          "state": {
            "_model_module": "@jupyter-widgets/base",
            "_model_module_version": "1.2.0",
            "_model_name": "LayoutModel",
            "_view_count": null,
            "_view_module": "@jupyter-widgets/base",
            "_view_module_version": "1.2.0",
            "_view_name": "LayoutView",
            "align_content": null,
            "align_items": null,
            "align_self": null,
            "border": null,
            "bottom": null,
            "display": null,
            "flex": null,
            "flex_flow": null,
            "grid_area": null,
            "grid_auto_columns": null,
            "grid_auto_flow": null,
            "grid_auto_rows": null,
            "grid_column": null,
            "grid_gap": null,
            "grid_row": null,
            "grid_template_areas": null,
            "grid_template_columns": null,
            "grid_template_rows": null,
            "height": "20px",
            "justify_content": null,
            "justify_items": null,
            "left": null,
            "margin": null,
            "max_height": null,
            "max_width": null,
            "min_height": null,
            "min_width": null,
            "object_fit": null,
            "object_position": null,
            "order": null,
            "overflow": null,
            "overflow_x": null,
            "overflow_y": null,
            "padding": null,
            "right": null,
            "top": null,
            "visibility": null,
            "width": "50%"
          }
        },
        "da349baf7a9844938a8ac207ac1eb0fd": {
          "model_module": "@jupyter-widgets/controls",
          "model_name": "SliderStyleModel",
          "model_module_version": "1.5.0",
          "state": {
            "_model_module": "@jupyter-widgets/controls",
            "_model_module_version": "1.5.0",
            "_model_name": "SliderStyleModel",
            "_view_count": null,
            "_view_module": "@jupyter-widgets/base",
            "_view_module_version": "1.2.0",
            "_view_name": "StyleView",
            "description_width": "initial",
            "handle_color": null
          }
        },
        "b8b909d901ac45f8bdeeac3f8701bc18": {
          "model_module": "@jupyter-widgets/output",
          "model_name": "OutputModel",
          "model_module_version": "1.0.0",
          "state": {
            "_dom_classes": [],
            "_model_module": "@jupyter-widgets/output",
            "_model_module_version": "1.0.0",
            "_model_name": "OutputModel",
            "_view_count": null,
            "_view_module": "@jupyter-widgets/output",
            "_view_module_version": "1.0.0",
            "_view_name": "OutputView",
            "layout": "IPY_MODEL_b43731a7e2fe4e93978a63deb8b171ed",
            "msg_id": "",
            "outputs": [
              {
                "output_type": "stream",
                "name": "stdout",
                "text": [
                  "Coal price in $/MBtu:  0.034178686171303575\n"
                ]
              }
            ]
          }
        },
        "b43731a7e2fe4e93978a63deb8b171ed": {
          "model_module": "@jupyter-widgets/base",
          "model_name": "LayoutModel",
          "model_module_version": "1.2.0",
          "state": {
            "_model_module": "@jupyter-widgets/base",
            "_model_module_version": "1.2.0",
            "_model_name": "LayoutModel",
            "_view_count": null,
            "_view_module": "@jupyter-widgets/base",
            "_view_module_version": "1.2.0",
            "_view_name": "LayoutView",
            "align_content": null,
            "align_items": null,
            "align_self": null,
            "border": null,
            "bottom": null,
            "display": null,
            "flex": null,
            "flex_flow": null,
            "grid_area": null,
            "grid_auto_columns": null,
            "grid_auto_flow": null,
            "grid_auto_rows": null,
            "grid_column": null,
            "grid_gap": null,
            "grid_row": null,
            "grid_template_areas": null,
            "grid_template_columns": null,
            "grid_template_rows": null,
            "height": null,
            "justify_content": null,
            "justify_items": null,
            "left": null,
            "margin": null,
            "max_height": null,
            "max_width": null,
            "min_height": null,
            "min_width": null,
            "object_fit": null,
            "object_position": null,
            "order": null,
            "overflow": null,
            "overflow_x": null,
            "overflow_y": null,
            "padding": null,
            "right": null,
            "top": null,
            "visibility": null,
            "width": null
          }
        }
      }
    }
  },
  "cells": [
    {
      "cell_type": "markdown",
      "metadata": {
        "id": "view-in-github",
        "colab_type": "text"
      },
      "source": [
        "<a href=\"https://colab.research.google.com/github/h2mauricio/ENV716-F22_SOL/blob/main/ENV716_user_defined_func.ipynb\" target=\"_parent\"><img src=\"https://colab.research.google.com/assets/colab-badge.svg\" alt=\"Open In Colab\"/></a>"
      ]
    },
    {
      "cell_type": "markdown",
      "source": [
        "# ENV716L- Fall 2022\n",
        "\n",
        "Instructor: [Dalia Patino-Echeverri ](mailto:dalia.patino@duke.edu)\n",
        "\n",
        "[github repository](https://github.com/)\n",
        "\n",
        "## Assignment 3: User Defined Functions in Python\n",
        "\n"
      ],
      "metadata": {
        "id": "7kuiMl6Y4DoE"
      }
    },
    {
      "cell_type": "markdown",
      "source": [
        "##Objective: \n",
        "\n",
        "This assignment offers opportunities to:\n",
        "- Practice extracting information of Excel workbooks with Python\n",
        "- Practice your ability to build a cost model in excel, and use macros to build useful applications.\n",
        "- Affirm your understanding ofthe concepts of iteration and conditional execution in computer programming by writing user defined functions in Python.  "
      ],
      "metadata": {
        "id": "2YlLslcWIAzl"
      }
    },
    {
      "cell_type": "code",
      "execution_count": 2,
      "metadata": {
        "colab": {
          "base_uri": "https://localhost:8080/"
        },
        "id": "SwZYdcPNxu5j",
        "outputId": "b57d711c-1e04-4b54-8f3b-2c3ba231d1ba"
      },
      "outputs": [
        {
          "output_type": "stream",
          "name": "stdout",
          "text": [
            "Mounted at /content/gdrive\n"
          ]
        }
      ],
      "source": [
        "# Install library if needed\n",
        "#!pip install ipywidgets\n",
        "#Connect to google drive\n",
        "from google.colab import drive\n",
        "\n",
        "drive.mount('/content/gdrive')"
      ]
    },
    {
      "cell_type": "markdown",
      "source": [
        "### Code Examples:\n",
        "**First way to enter data in Colab and Python:** \n",
        "**Using the Colab Forms**"
      ],
      "metadata": {
        "id": "tqARnpsUAavg"
      }
    },
    {
      "cell_type": "code",
      "source": [
        "#@title Temperature Conversion { run: \"auto\" }\n",
        "\n",
        "temp_celsius = 12 #@param {type:\"number\"}\n",
        "temp_farenheit = (temp_celsius * 9/5) + 32\n",
        "print(\"The temperature in F is:\", temp_farenheit)"
      ],
      "metadata": {
        "colab": {
          "base_uri": "https://localhost:8080/"
        },
        "id": "KBgKcVQZ73a5",
        "outputId": "0161c52f-6dd5-4578-a7aa-15a4371acf37"
      },
      "execution_count": 20,
      "outputs": [
        {
          "output_type": "stream",
          "name": "stdout",
          "text": [
            "The temperature in F is: 53.6\n"
          ]
        }
      ]
    },
    {
      "cell_type": "markdown",
      "source": [
        "**Second way to enter data in Colab and Python:** \n",
        "**Using the input function**"
      ],
      "metadata": {
        "id": "4JfHKu2AAumZ"
      }
    },
    {
      "cell_type": "code",
      "source": [
        "temp_cels = float(input(\"Enter temperature in Celsius:\"))\n",
        "temp_faren = (temp_cels * 9.0/5.0) + 32.0\n",
        "\n",
        "print(\"The temperature in F is:\", temp_faren)"
      ],
      "metadata": {
        "colab": {
          "base_uri": "https://localhost:8080/"
        },
        "id": "t2dolovEyeiC",
        "outputId": "db74c215-2a51-4f76-de70-54e025dd8960"
      },
      "execution_count": 42,
      "outputs": [
        {
          "output_type": "stream",
          "name": "stdout",
          "text": [
            "Enter temperature in Celsius:1\n",
            "The temperature in F is: 33.8\n"
          ]
        }
      ]
    },
    {
      "cell_type": "markdown",
      "source": [
        "**Third way to enter data in colab: Using the ipywidgets library**"
      ],
      "metadata": {
        "id": "hgWt2-Le8dN5"
      }
    },
    {
      "cell_type": "code",
      "source": [
        "import ipywidgets as widgets\n",
        "from IPython.display import display\n",
        "\n",
        "input_temp = widgets.FloatText(\n",
        "    value=0.0,\n",
        "    step=0.1,\n",
        "    description='Temperature (C):',\n",
        "    style={'description_width': 'initial'},\n",
        "    disabled=False\n",
        ")\n",
        "\n",
        "\n",
        "def celsius_to_farenheit(celsius):\n",
        "  \"\"\" Convert Celsius degrees to Farenheit \"\"\"\n",
        "  farenheit = (celsius * 9/5) + 32\n",
        "  display(farenheit)\n",
        "\n",
        "\n",
        "out_farenheit = widgets.interactive_output(celsius_to_farenheit, \n",
        "                                           {'celsius': input_temp})\n",
        "\n",
        "display(input_temp)\n",
        "print('Temperature in F:')\n",
        "display(out_farenheit)"
      ],
      "metadata": {
        "colab": {
          "base_uri": "https://localhost:8080/",
          "height": 84,
          "referenced_widgets": [
            "0a1a8f8200ec4c8abac43c8e59bfbcee",
            "ac995ca62fca4992b9ceab87f4b7cd26",
            "2d51eaa13a1c4b349379fc77536fcca5",
            "f28dad876df04e219b7fc89114f6936d",
            "b576240c7ba74effbe2e723269eac855"
          ]
        },
        "id": "zFRkhI5QBufq",
        "outputId": "1d24688d-5b5f-4382-ccdd-b13c16dc2be1"
      },
      "execution_count": 57,
      "outputs": [
        {
          "output_type": "display_data",
          "data": {
            "text/plain": [
              "FloatText(value=0.0, description='Temperature (C):', step=0.1, style=DescriptionStyle(description_width='initi…"
            ],
            "application/vnd.jupyter.widget-view+json": {
              "version_major": 2,
              "version_minor": 0,
              "model_id": "0a1a8f8200ec4c8abac43c8e59bfbcee"
            }
          },
          "metadata": {}
        },
        {
          "output_type": "stream",
          "name": "stdout",
          "text": [
            "Temperature in F:\n"
          ]
        },
        {
          "output_type": "display_data",
          "data": {
            "text/plain": [
              "Output()"
            ],
            "application/vnd.jupyter.widget-view+json": {
              "version_major": 2,
              "version_minor": 0,
              "model_id": "f28dad876df04e219b7fc89114f6936d"
            }
          },
          "metadata": {}
        }
      ]
    },
    {
      "cell_type": "markdown",
      "source": [
        "##3. Write User Defined Functions (UDF)\n",
        "\n",
        "(40%) Make your UDF as user friendly as possible (for example make it so that it works when the string parameter is entered with capital letters, or lower case letters). Make sure the parameters of your function are in the order requested for each of them. Also, please remember that functions should take their input(s) from excel cells (not from input boxes), and should output a result in one cell.In the excel file, provide evidence that you have tested each of the UDFs with one macroby using your function in one cell of your workbook(i.e., calling the function inside the cell with the appropriate arguments)*UDFs will be covered in Lecture 7"
      ],
      "metadata": {
        "id": "bbppfdfh9BoW"
      }
    },
    {
      "cell_type": "markdown",
      "source": [
        "### 3.a (10%) Coal Price Function\n",
        "Write a function that takes coal price (\\$/ton), coal Heating Value (Btu/lb), and gives coal price in ($/MBtu). (The order of the parameters is 1) coal price, and 2) Heating value). *Remember: there are 2000lbs in 1 ton. M means million.*\n",
        "\n",
        "☝ *Note: We use COE and LCOE interchangeably* \n",
        "\n",
        "✌ *Note: ton=short ton= 2000lbs*\n"
      ],
      "metadata": {
        "id": "goZxiYNv9sB0"
      }
    },
    {
      "cell_type": "code",
      "source": [
        "def estimate_coal_price(coal_price_ton, heating_value):\n",
        "  \"\"\" Estimate coal price in Mbtu, using the heating value and price in tons\"\"\"\n",
        "  coal_price_lb = coal_price_ton * (1/2000)\n",
        "  heating_val_mbtu = heating_value * (1/1e6) #value is in btu\n",
        "  coal_price_mbtu = coal_price_lb / heating_val_mbtu\n",
        "  return coal_price_mbtu\n",
        "\n",
        "\n",
        "price_ton = float(input(\"Enter coal price ($/ton):\"))\n",
        "heat_value = float(input(\"Enter heating value (Btu/lb):\"))\n",
        "\n",
        "price_mbtu = estimate_coal_price(price_ton, heat_value)\n",
        "print(\"Coal price in $/MBtu\", price_mbtu)"
      ],
      "metadata": {
        "colab": {
          "base_uri": "https://localhost:8080/"
        },
        "id": "G5LAPgfZ25eq",
        "outputId": "996a61c8-b11e-4732-8aad-f662bb5caf3f"
      },
      "execution_count": 49,
      "outputs": [
        {
          "output_type": "stream",
          "name": "stdout",
          "text": [
            "Enter coal price ($/ton):30\n",
            "Enter heating value (Btu/lb):13000\n",
            "Coal price in $/MBtu 1.153846153846154\n"
          ]
        }
      ]
    },
    {
      "cell_type": "markdown",
      "source": [
        "**Another option**"
      ],
      "metadata": {
        "id": "D1HAOq5rSHNB"
      }
    },
    {
      "cell_type": "code",
      "source": [
        "\n",
        "import ipywidgets as widgets\n",
        "from IPython.display import display\n",
        "\n",
        "## Write your function here\n",
        "def estimate_coal_price(coal_price_ton, heating_value):\n",
        "  \"\"\" Estimate coal price in Mbtu, using the heating value and price in tons\"\"\"\n",
        "  coal_price_lb = coal_price_ton * (1/2000)\n",
        "  heating_val_mbtu = heating_value * (1/1e6) #value is in btu\n",
        "  coal_price_mbtu = coal_price_lb / heating_val_mbtu\n",
        "  print(\"Coal price in $/MBtu: \", coal_price_mbtu)\n",
        "  return coal_price_mbtu\n",
        "\n",
        "in_price_ton = widgets.FloatText(\n",
        "    value=1.0,\n",
        "    step=0.1,\n",
        "    description='Coal price ($/ton):',\n",
        "    style={'description_width': 'initial'},\n",
        "    disabled=False\n",
        ")\n",
        "\n",
        "in_heat_value = widgets.FloatSlider(\n",
        "    value=1.0,\n",
        "    min=0.0000001,\n",
        "    max=50000, \n",
        "    step=1, \n",
        "    style={'description_width': 'initial'},\n",
        "    layout= widgets.Layout(width='50%', height='20px'),\n",
        "    description='Heating value (Btu/lb)'\n",
        ")\n",
        "\n",
        "\n",
        "\n",
        "out_coal_price = widgets.interactive_output(estimate_coal_price, {'coal_price_ton': in_price_ton,'heating_value': in_heat_value})\n",
        "\n",
        "#ui = widgets.HBox([in_price_ton, in_heat_value])\n",
        "display(in_price_ton, in_heat_value)\n",
        "\n",
        "\n",
        "display(out_coal_price)\n"
      ],
      "metadata": {
        "colab": {
          "base_uri": "https://localhost:8080/",
          "height": 88,
          "referenced_widgets": [
            "c7d3d423aee6445392965f09e0998436",
            "3ae108afca174f5c949dc32673c9bc97",
            "4df7d27de5424ce9a876eaa89f63e500",
            "1fb9821922cd4ee09ff7f880e528d183",
            "e72e788b247645b2bf2564d021c26185",
            "da349baf7a9844938a8ac207ac1eb0fd",
            "b8b909d901ac45f8bdeeac3f8701bc18",
            "b43731a7e2fe4e93978a63deb8b171ed"
          ]
        },
        "id": "ELArLd7gRtwL",
        "outputId": "9a32d0f0-c761-4e74-9ee5-a1c66d804677"
      },
      "execution_count": 7,
      "outputs": [
        {
          "output_type": "display_data",
          "data": {
            "text/plain": [
              "FloatText(value=1.0, description='coal price ($/ton):', step=0.1, style=DescriptionStyle(description_width='in…"
            ],
            "application/vnd.jupyter.widget-view+json": {
              "version_major": 2,
              "version_minor": 0,
              "model_id": "c7d3d423aee6445392965f09e0998436"
            }
          },
          "metadata": {}
        },
        {
          "output_type": "display_data",
          "data": {
            "text/plain": [
              "FloatSlider(value=1.0, description='heating value (Btu/lb)', layout=Layout(height='20px', width='50%'), max=50…"
            ],
            "application/vnd.jupyter.widget-view+json": {
              "version_major": 2,
              "version_minor": 0,
              "model_id": "1fb9821922cd4ee09ff7f880e528d183"
            }
          },
          "metadata": {}
        },
        {
          "output_type": "display_data",
          "data": {
            "text/plain": [
              "Output()"
            ],
            "application/vnd.jupyter.widget-view+json": {
              "version_major": 2,
              "version_minor": 0,
              "model_id": "b8b909d901ac45f8bdeeac3f8701bc18"
            }
          },
          "metadata": {}
        }
      ]
    },
    {
      "cell_type": "markdown",
      "source": [
        "### 3.b (10%) Net Efficiency Function\n",
        "Write a function that takes the Net Heat Rate of a power plant (in Btu/kWh) and calculates the Net Efficiency of a power plant in %.  (Hint: 1 watt = 3.412141633 Btu/hr). *(Efficiency is defined as the ratio between output energy over input energy)*.  **The only input the user will enter as a parameter into this UDF is the Net Heat Rate.**"
      ],
      "metadata": {
        "id": "UiUkiLNJ99Aa"
      }
    },
    {
      "cell_type": "markdown",
      "source": [
        "### 3.c (20%) CO_2 Equivalent\n",
        "Write a UDF that takes as an input the quantity of any of the greenhouse gases (GHG) reported in eGrid (CH4, N2O and CO2) in any units (lbs, tons, tonnes), and outputs the CO2 equivalency in metric tonnes.\n",
        "\n",
        "☝ The order of the parameters for this UDF should be: 1) Quantity, 2) type of Gas, 3) Units."
      ],
      "metadata": {
        "id": "frNvqpQg9-0R"
      }
    }
  ]
}